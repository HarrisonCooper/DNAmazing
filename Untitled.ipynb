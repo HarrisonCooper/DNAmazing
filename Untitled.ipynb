{
 "cells": [
  {
   "cell_type": "markdown",
   "metadata": {},
   "source": [
    "## DNAmazing!"
   ]
  },
  {
   "cell_type": "code",
   "execution_count": 10,
   "metadata": {
    "collapsed": false
   },
   "outputs": [
    {
     "data": {
      "text/plain": [
       "'3.5.2 |Continuum Analytics, Inc.| (default, Jul  5 2016, 11:41:13) [MSC v.1900 64 bit (AMD64)]'"
      ]
     },
     "execution_count": 10,
     "metadata": {},
     "output_type": "execute_result"
    }
   ],
   "source": [
    "import sys\n",
    "\n",
    "sys.version"
   ]
  },
  {
   "cell_type": "code",
   "execution_count": 6,
   "metadata": {
    "collapsed": true
   },
   "outputs": [],
   "source": [
    "import DNAmazing\n",
    "import pprint"
   ]
  },
  {
   "cell_type": "markdown",
   "metadata": {},
   "source": [
    "Load SAM alignment data and CARD json data using DNAmazing wrappers"
   ]
  },
  {
   "cell_type": "code",
   "execution_count": 20,
   "metadata": {
    "collapsed": true
   },
   "outputs": [],
   "source": [
    "samfile = DNAmazing.SAMFile('./GN131MinION.sam')\n",
    "card = DNAmazing.CARDJSON('./card.json')"
   ]
  },
  {
   "cell_type": "markdown",
   "metadata": {},
   "source": [
    "Iterate over reads that are mapped to a Antibiotic Resistance gene and get unique genes"
   ]
  },
  {
   "cell_type": "code",
   "execution_count": 21,
   "metadata": {
    "collapsed": false,
    "scrolled": false
   },
   "outputs": [],
   "source": [
    "resistance_genes = set()\n",
    "\n",
    "for record in DNAmazing.find_mapped_reads(samfile):\n",
    "    gname, data = card.find_gene_for_alignment(record)\n",
    "    useful_data = (data['ARO_name'],)\n",
    "    for cat in data['ARO_category'].values():\n",
    "        useful_data += (cat['category_aro_description'],)\n",
    "    resistance_genes.add(useful_data)"
   ]
  },
  {
   "cell_type": "code",
   "execution_count": 24,
   "metadata": {
    "collapsed": false,
    "scrolled": false
   },
   "outputs": [
    {
     "data": {
      "text/plain": [
       "{(\"AAC(6')-Ib\",\n",
       "  'Enzymes, other proteins or other gene products shown clinically to confer resistance to aminoglycoside antibiotics.',\n",
       "  'Enzyme that catalyzes the inactivation of an antibiotic resulting in resistance.  Inactivation includes chemical modification, destruction, etc.'),\n",
       " (\"AAC(6')-Ib7\",\n",
       "  'Enzymes, other proteins or other gene products shown clinically to confer resistance to aminoglycoside antibiotics.',\n",
       "  'Enzyme that catalyzes the inactivation of an antibiotic resulting in resistance.  Inactivation includes chemical modification, destruction, etc.'),\n",
       " (\"APH(3'')-Ib\",\n",
       "  'Enzymes, other proteins or other gene products shown clinically to confer resistance to aminoglycoside antibiotics.',\n",
       "  'Enzyme that catalyzes the inactivation of an antibiotic resulting in resistance.  Inactivation includes chemical modification, destruction, etc.'),\n",
       " (\"APH(3')-Ia\",\n",
       "  'Enzymes, other proteins or other gene products shown clinically to confer resistance to aminoglycoside antibiotics.',\n",
       "  'Enzyme that catalyzes the inactivation of an antibiotic resulting in resistance.  Inactivation includes chemical modification, destruction, etc.'),\n",
       " ('APH(6)-Id',\n",
       "  'Enzymes, other proteins or other gene products shown clinically to confer resistance to aminoglycoside antibiotics.',\n",
       "  'Enzyme that catalyzes the inactivation of an antibiotic resulting in resistance.  Inactivation includes chemical modification, destruction, etc.'),\n",
       " ('CRP',\n",
       "  'Efflux proteins that pump antibiotic out of a cell to confer resistance.',\n",
       "  'Protein(s) and two component regulatory systems that directly or indirectly change rates of antibiotic efflux.'),\n",
       " ('KPC-1',\n",
       "  'Enzyme that catalyzes the inactivation of an antibiotic resulting in resistance.  Inactivation includes chemical modification, destruction, etc.',\n",
       "  'Enzymes, other proteins or other gene products shown clinically to confer resistance to beta-lactam antibiotics.'),\n",
       " ('KPC-11',\n",
       "  'Enzyme that catalyzes the inactivation of an antibiotic resulting in resistance.  Inactivation includes chemical modification, destruction, etc.',\n",
       "  'Enzymes, other proteins or other gene products shown clinically to confer resistance to beta-lactam antibiotics.'),\n",
       " ('Klebsiella pneumoniae acrA',\n",
       "  'Efflux proteins that pump antibiotic out of a cell to confer resistance.'),\n",
       " ('MexB',\n",
       "  'Efflux proteins that pump antibiotic out of a cell to confer resistance.'),\n",
       " ('OXA-2',\n",
       "  'Enzyme that catalyzes the inactivation of an antibiotic resulting in resistance.  Inactivation includes chemical modification, destruction, etc.',\n",
       "  'Enzymes, other proteins or other gene products shown clinically to confer resistance to beta-lactam antibiotics.'),\n",
       " ('OXA-9',\n",
       "  'Enzyme that catalyzes the inactivation of an antibiotic resulting in resistance.  Inactivation includes chemical modification, destruction, etc.',\n",
       "  'Enzymes, other proteins or other gene products shown clinically to confer resistance to beta-lactam antibiotics.'),\n",
       " ('OprA',\n",
       "  'Efflux proteins that pump antibiotic out of a cell to confer resistance.'),\n",
       " ('PmrC',\n",
       "  'Genes involved in alteration of the cell wall overall charge, leading to antimicrobial resistance due to reduced binding',\n",
       "  'Enzymes, other proteins or other gene products shown clinically to confer resistance to polymyxin antibiotics, i.e. colistin.'),\n",
       " ('PmrF',\n",
       "  'Genes involved in alteration of the cell wall overall charge, leading to antimicrobial resistance due to reduced binding',\n",
       "  'Enzymes, other proteins or other gene products shown clinically to confer resistance to polymyxin antibiotics, i.e. colistin.'),\n",
       " ('TEM-4',\n",
       "  'Enzyme that catalyzes the inactivation of an antibiotic resulting in resistance.  Inactivation includes chemical modification, destruction, etc.',\n",
       "  'Enzymes, other proteins or other gene products shown clinically to confer resistance to beta-lactam antibiotics.'),\n",
       " ('TolC',\n",
       "  'Efflux proteins that pump antibiotic out of a cell to confer resistance.'),\n",
       " ('YojI',\n",
       "  'Efflux proteins that pump antibiotic out of a cell to confer resistance.'),\n",
       " ('aadA8',\n",
       "  'Enzymes, other proteins or other gene products shown clinically to confer resistance to aminoglycoside antibiotics.',\n",
       "  'Enzyme that catalyzes the inactivation of an antibiotic resulting in resistance.  Inactivation includes chemical modification, destruction, etc.'),\n",
       " ('acrB',\n",
       "  'Efflux proteins that pump antibiotic out of a cell to confer resistance.'),\n",
       " ('acrD',\n",
       "  'Efflux proteins that pump antibiotic out of a cell to confer resistance.'),\n",
       " ('acrE',\n",
       "  'Efflux proteins that pump antibiotic out of a cell to confer resistance.'),\n",
       " ('acrF',\n",
       "  'Efflux proteins that pump antibiotic out of a cell to confer resistance.'),\n",
       " ('arnA',\n",
       "  'Genes involved in alteration of the cell wall overall charge, leading to antimicrobial resistance due to reduced binding',\n",
       "  'Enzymes, other proteins or other gene products shown clinically to confer resistance to polymyxin antibiotics, i.e. colistin.'),\n",
       " ('bacA',\n",
       "  'Enzymes, other proteins or other gene products shown clinically to confer resistance to peptide antibiotics.',\n",
       "  'Genes involved in restructuring of the cell wall'),\n",
       " ('baeR',\n",
       "  'Efflux proteins that pump antibiotic out of a cell to confer resistance.',\n",
       "  'Protein(s) and two component regulatory systems that directly or indirectly change rates of antibiotic efflux.'),\n",
       " ('cpxA',\n",
       "  'Efflux proteins that pump antibiotic out of a cell to confer resistance.',\n",
       "  'Protein(s) and two component regulatory systems that directly or indirectly change rates of antibiotic efflux.'),\n",
       " ('dfrA14',\n",
       "  'Enzymes, other proteins or other gene products shown clinically to confer resistance to diaminopyrimidine (incl. trimethoprim) antibiotics.',\n",
       "  'Alternate proteins that have the same functions as other antibiotic target proteins, but are structurally different and thus resistant to antibiotics. These can replace the activity of other antibiotic-sensitive proteins in the presence of antibiotics.'),\n",
       " ('emrB',\n",
       "  'Efflux proteins that pump antibiotic out of a cell to confer resistance.'),\n",
       " ('emrD',\n",
       "  'Efflux proteins that pump antibiotic out of a cell to confer resistance.'),\n",
       " ('emrR',\n",
       "  'Efflux proteins that pump antibiotic out of a cell to confer resistance.',\n",
       "  'Protein(s) and two component regulatory systems that directly or indirectly change rates of antibiotic efflux.'),\n",
       " ('mdfA',\n",
       "  'Efflux proteins that pump antibiotic out of a cell to confer resistance.'),\n",
       " ('mdtB',\n",
       "  'Efflux proteins that pump antibiotic out of a cell to confer resistance.'),\n",
       " ('mdtC',\n",
       "  'Efflux proteins that pump antibiotic out of a cell to confer resistance.'),\n",
       " ('mfd',\n",
       "  'These proteins confer antibiotic resistance by bind the antibiotic target to prevent antibiotic binding.',\n",
       "  'Enzymes, other proteins or other gene products shown clinically to confer resistance to fluoroquinolone antibiotics'),\n",
       " ('msbA',\n",
       "  'Efflux proteins that pump antibiotic out of a cell to confer resistance.'),\n",
       " ('patA',\n",
       "  'Efflux proteins that pump antibiotic out of a cell to confer resistance.'),\n",
       " ('sul2',\n",
       "  'Enzymes, other proteins or other gene products shown clinically to confer resistance to sulfonamide antibiotics.',\n",
       "  'Alternate proteins that have the same functions as other antibiotic target proteins, but are structurally different and thus resistant to antibiotics. These can replace the activity of other antibiotic-sensitive proteins in the presence of antibiotics.'),\n",
       " ('tet(C)',\n",
       "  'Efflux proteins that pump antibiotic out of a cell to confer resistance.')}"
      ]
     },
     "execution_count": 24,
     "metadata": {},
     "output_type": "execute_result"
    }
   ],
   "source": [
    "resistance_genes"
   ]
  },
  {
   "cell_type": "code",
   "execution_count": null,
   "metadata": {
    "collapsed": true
   },
   "outputs": [],
   "source": []
  }
 ],
 "metadata": {
  "hide_input": false,
  "kernelspec": {
   "display_name": "Python 3",
   "language": "python",
   "name": "python3"
  },
  "language_info": {
   "codemirror_mode": {
    "name": "ipython",
    "version": 3
   },
   "file_extension": ".py",
   "mimetype": "text/x-python",
   "name": "python",
   "nbconvert_exporter": "python",
   "pygments_lexer": "ipython3",
   "version": "3.5.2"
  },
  "toc": {
   "toc_cell": false,
   "toc_number_sections": true,
   "toc_threshold": 6,
   "toc_window_display": false
  }
 },
 "nbformat": 4,
 "nbformat_minor": 2
}
