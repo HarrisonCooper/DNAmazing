{
 "cells": [
  {
   "cell_type": "markdown",
   "metadata": {},
   "source": [
    "## DNAmazing!"
   ]
  },
  {
   "cell_type": "code",
   "execution_count": 1,
   "metadata": {
    "collapsed": false
   },
   "outputs": [
    {
     "data": {
      "text/plain": [
       "'3.5.2 |Continuum Analytics, Inc.| (default, Jul  5 2016, 11:41:13) [MSC v.1900 64 bit (AMD64)]'"
      ]
     },
     "execution_count": 1,
     "metadata": {},
     "output_type": "execute_result"
    }
   ],
   "source": [
    "import sys\n",
    "\n",
    "sys.version"
   ]
  },
  {
   "cell_type": "code",
   "execution_count": 2,
   "metadata": {
    "collapsed": false
   },
   "outputs": [],
   "source": [
    "import DNAmazing"
   ]
  },
  {
   "cell_type": "markdown",
   "metadata": {},
   "source": [
    "Load SAM alignment data and CARD json data using DNAmazing wrappers"
   ]
  },
  {
   "cell_type": "code",
   "execution_count": 3,
   "metadata": {
    "collapsed": true
   },
   "outputs": [],
   "source": [
    "samfile = DNAmazing.SAMFile('./GN131MinION.sam')\n",
    "card = DNAmazing.CARDJSON('./card.json')"
   ]
  },
  {
   "cell_type": "markdown",
   "metadata": {},
   "source": [
    "Iterate over reads that are mapped to a Antibiotic Resistance gene and get unique genes"
   ]
  },
  {
   "cell_type": "code",
   "execution_count": 4,
   "metadata": {
    "collapsed": false,
    "scrolled": false
   },
   "outputs": [],
   "source": [
    "resistance_genes = set()\n",
    "\n",
    "for record in DNAmazing.find_mapped_reads(samfile):\n",
    "    gname, data = card.find_gene_for_alignment(record)\n",
    "    useful_data = (data['ARO_name'],)\n",
    "    for cat in data['ARO_category'].values():\n",
    "        useful_data += (cat['category_aro_description'],)\n",
    "    resistance_genes.add(useful_data)"
   ]
  },
  {
   "cell_type": "code",
   "execution_count": 5,
   "metadata": {
    "collapsed": false,
    "scrolled": false
   },
   "outputs": [
    {
     "data": {
      "text/plain": [
       "{(\"AAC(6')-Ib\",\n",
       "  'Enzyme that catalyzes the inactivation of an antibiotic resulting in resistance.  Inactivation includes chemical modification, destruction, etc.',\n",
       "  'Enzymes, other proteins or other gene products shown clinically to confer resistance to aminoglycoside antibiotics.'),\n",
       " (\"AAC(6')-Ib7\",\n",
       "  'Enzymes, other proteins or other gene products shown clinically to confer resistance to aminoglycoside antibiotics.',\n",
       "  'Enzyme that catalyzes the inactivation of an antibiotic resulting in resistance.  Inactivation includes chemical modification, destruction, etc.'),\n",
       " (\"APH(3'')-Ib\",\n",
       "  'Enzymes, other proteins or other gene products shown clinically to confer resistance to aminoglycoside antibiotics.',\n",
       "  'Enzyme that catalyzes the inactivation of an antibiotic resulting in resistance.  Inactivation includes chemical modification, destruction, etc.'),\n",
       " (\"APH(3')-Ia\",\n",
       "  'Enzymes, other proteins or other gene products shown clinically to confer resistance to aminoglycoside antibiotics.',\n",
       "  'Enzyme that catalyzes the inactivation of an antibiotic resulting in resistance.  Inactivation includes chemical modification, destruction, etc.'),\n",
       " ('APH(6)-Id',\n",
       "  'Enzyme that catalyzes the inactivation of an antibiotic resulting in resistance.  Inactivation includes chemical modification, destruction, etc.',\n",
       "  'Enzymes, other proteins or other gene products shown clinically to confer resistance to aminoglycoside antibiotics.'),\n",
       " ('CRP',\n",
       "  'Efflux proteins that pump antibiotic out of a cell to confer resistance.',\n",
       "  'Protein(s) and two component regulatory systems that directly or indirectly change rates of antibiotic efflux.'),\n",
       " ('KPC-1',\n",
       "  'Enzymes, other proteins or other gene products shown clinically to confer resistance to beta-lactam antibiotics.',\n",
       "  'Enzyme that catalyzes the inactivation of an antibiotic resulting in resistance.  Inactivation includes chemical modification, destruction, etc.'),\n",
       " ('KPC-11',\n",
       "  'Enzymes, other proteins or other gene products shown clinically to confer resistance to beta-lactam antibiotics.',\n",
       "  'Enzyme that catalyzes the inactivation of an antibiotic resulting in resistance.  Inactivation includes chemical modification, destruction, etc.'),\n",
       " ('Klebsiella pneumoniae acrA',\n",
       "  'Efflux proteins that pump antibiotic out of a cell to confer resistance.'),\n",
       " ('MexB',\n",
       "  'Efflux proteins that pump antibiotic out of a cell to confer resistance.'),\n",
       " ('OXA-2',\n",
       "  'Enzymes, other proteins or other gene products shown clinically to confer resistance to beta-lactam antibiotics.',\n",
       "  'Enzyme that catalyzes the inactivation of an antibiotic resulting in resistance.  Inactivation includes chemical modification, destruction, etc.'),\n",
       " ('OXA-9',\n",
       "  'Enzymes, other proteins or other gene products shown clinically to confer resistance to beta-lactam antibiotics.',\n",
       "  'Enzyme that catalyzes the inactivation of an antibiotic resulting in resistance.  Inactivation includes chemical modification, destruction, etc.'),\n",
       " ('OprA',\n",
       "  'Efflux proteins that pump antibiotic out of a cell to confer resistance.'),\n",
       " ('PmrC',\n",
       "  'Enzymes, other proteins or other gene products shown clinically to confer resistance to polymyxin antibiotics, i.e. colistin.',\n",
       "  'Genes involved in alteration of the cell wall overall charge, leading to antimicrobial resistance due to reduced binding'),\n",
       " ('PmrF',\n",
       "  'Enzymes, other proteins or other gene products shown clinically to confer resistance to polymyxin antibiotics, i.e. colistin.',\n",
       "  'Genes involved in alteration of the cell wall overall charge, leading to antimicrobial resistance due to reduced binding'),\n",
       " ('TEM-4',\n",
       "  'Enzymes, other proteins or other gene products shown clinically to confer resistance to beta-lactam antibiotics.',\n",
       "  'Enzyme that catalyzes the inactivation of an antibiotic resulting in resistance.  Inactivation includes chemical modification, destruction, etc.'),\n",
       " ('TolC',\n",
       "  'Efflux proteins that pump antibiotic out of a cell to confer resistance.'),\n",
       " ('YojI',\n",
       "  'Efflux proteins that pump antibiotic out of a cell to confer resistance.'),\n",
       " ('aadA8',\n",
       "  'Enzymes, other proteins or other gene products shown clinically to confer resistance to aminoglycoside antibiotics.',\n",
       "  'Enzyme that catalyzes the inactivation of an antibiotic resulting in resistance.  Inactivation includes chemical modification, destruction, etc.'),\n",
       " ('acrB',\n",
       "  'Efflux proteins that pump antibiotic out of a cell to confer resistance.'),\n",
       " ('acrD',\n",
       "  'Efflux proteins that pump antibiotic out of a cell to confer resistance.'),\n",
       " ('acrE',\n",
       "  'Efflux proteins that pump antibiotic out of a cell to confer resistance.'),\n",
       " ('acrF',\n",
       "  'Efflux proteins that pump antibiotic out of a cell to confer resistance.'),\n",
       " ('arnA',\n",
       "  'Enzymes, other proteins or other gene products shown clinically to confer resistance to polymyxin antibiotics, i.e. colistin.',\n",
       "  'Genes involved in alteration of the cell wall overall charge, leading to antimicrobial resistance due to reduced binding'),\n",
       " ('bacA',\n",
       "  'Enzymes, other proteins or other gene products shown clinically to confer resistance to peptide antibiotics.',\n",
       "  'Genes involved in restructuring of the cell wall'),\n",
       " ('baeR',\n",
       "  'Efflux proteins that pump antibiotic out of a cell to confer resistance.',\n",
       "  'Protein(s) and two component regulatory systems that directly or indirectly change rates of antibiotic efflux.'),\n",
       " ('cpxA',\n",
       "  'Efflux proteins that pump antibiotic out of a cell to confer resistance.',\n",
       "  'Protein(s) and two component regulatory systems that directly or indirectly change rates of antibiotic efflux.'),\n",
       " ('dfrA14',\n",
       "  'Enzymes, other proteins or other gene products shown clinically to confer resistance to diaminopyrimidine (incl. trimethoprim) antibiotics.',\n",
       "  'Alternate proteins that have the same functions as other antibiotic target proteins, but are structurally different and thus resistant to antibiotics. These can replace the activity of other antibiotic-sensitive proteins in the presence of antibiotics.'),\n",
       " ('emrB',\n",
       "  'Efflux proteins that pump antibiotic out of a cell to confer resistance.'),\n",
       " ('emrD',\n",
       "  'Efflux proteins that pump antibiotic out of a cell to confer resistance.'),\n",
       " ('emrR',\n",
       "  'Efflux proteins that pump antibiotic out of a cell to confer resistance.',\n",
       "  'Protein(s) and two component regulatory systems that directly or indirectly change rates of antibiotic efflux.'),\n",
       " ('mdfA',\n",
       "  'Efflux proteins that pump antibiotic out of a cell to confer resistance.'),\n",
       " ('mdtB',\n",
       "  'Efflux proteins that pump antibiotic out of a cell to confer resistance.'),\n",
       " ('mdtC',\n",
       "  'Efflux proteins that pump antibiotic out of a cell to confer resistance.'),\n",
       " ('mfd',\n",
       "  'These proteins confer antibiotic resistance by bind the antibiotic target to prevent antibiotic binding.',\n",
       "  'Enzymes, other proteins or other gene products shown clinically to confer resistance to fluoroquinolone antibiotics'),\n",
       " ('msbA',\n",
       "  'Efflux proteins that pump antibiotic out of a cell to confer resistance.'),\n",
       " ('patA',\n",
       "  'Efflux proteins that pump antibiotic out of a cell to confer resistance.'),\n",
       " ('sul2',\n",
       "  'Enzymes, other proteins or other gene products shown clinically to confer resistance to sulfonamide antibiotics.',\n",
       "  'Alternate proteins that have the same functions as other antibiotic target proteins, but are structurally different and thus resistant to antibiotics. These can replace the activity of other antibiotic-sensitive proteins in the presence of antibiotics.'),\n",
       " ('tet(C)',\n",
       "  'Efflux proteins that pump antibiotic out of a cell to confer resistance.')}"
      ]
     },
     "execution_count": 5,
     "metadata": {},
     "output_type": "execute_result"
    }
   ],
   "source": [
    "resistance_genes"
   ]
  },
  {
   "cell_type": "code",
   "execution_count": null,
   "metadata": {
    "collapsed": true
   },
   "outputs": [],
   "source": [
    "import json\n",
    "\n",
    "\n",
    "BASE_NCCO = [\n",
    "    {\n",
    "        \"action\": \"talk\",        # First action is to say how many AR genes have been detected\n",
    "    }\n",
    "]\n",
    "\n",
    "BASE_TEXT = '''\n",
    "We have found {nrest} Antibiotic Resistance genes in your sample.\n",
    "Antibiotics resisted include: {antibiotics}\n",
    "'''\n",
    "\n",
    "def build_ncco(found_genes):\n",
    "    "
   ]
  },
  {
   "cell_type": "code",
   "execution_count": 6,
   "metadata": {
    "collapsed": false
   },
   "outputs": [
    {
     "data": {
      "text/plain": [
       "{'ARO_accession': '3000793',\n",
       " 'ARO_category': {'36298': {'category_aro_accession': '3000159',\n",
       "   'category_aro_cvterm_id': '36298',\n",
       "   'category_aro_description': 'Efflux proteins that pump antibiotic out of a cell to confer resistance.',\n",
       "   'category_aro_name': 'efflux pump complex or subunit conferring antibiotic resistance'}},\n",
       " 'ARO_description': 'MdtB is a transporter that forms a heteromultimer complex with MdtC to form a multidrug transporter. MdtBC is part of the MdtABC-TolC efflux complex.',\n",
       " 'ARO_id': '37173',\n",
       " 'ARO_name': 'mdtB',\n",
       " 'model_description': 'Models to detect proteins conferring antibiotic resistance, which include a reference protein sequence and a curated BLASTP cut-off.',\n",
       " 'model_id': '820',\n",
       " 'model_name': 'mdtB',\n",
       " 'model_param': {'blastp_bit_score': {'param_description': 'A score is a numerical value that describes the overall quality of an alignment. Higher numbers correspond to higher similarity. The bit-score (S) is determined by the following formula: S = (λ × S − lnK)/ ln2 where λ is the Gumble distribution constant, S is the raw alignment score, and K is a constant associated with the scoring matrix.',\n",
       "   'param_type': 'BLASTP bit-score',\n",
       "   'param_type_id': '40725',\n",
       "   'param_value': '2050'},\n",
       "  'blastp_evalue': {'param_description': 'A curated expectation value (e-value) for assignment of an Antibiotic Resistance Ontology term based on a BLASTP hit to a CARD reference sequence.',\n",
       "   'param_type': 'BLASTP e-value',\n",
       "   'param_type_id': '36302',\n",
       "   'param_value': '1e-140'}},\n",
       " 'model_sequences': {'sequence': {'215': {'NCBI_taxonomy': {'NCBI_taxonomy_cvterm_id': '36849',\n",
       "     'NCBI_taxonomy_id': '511145',\n",
       "     'NCBI_taxonomy_name': 'Escherichia coli str. K-12 substr. MG1655'},\n",
       "    'dna_sequence': {'accession': 'U00096',\n",
       "     'fmax': '2158385',\n",
       "     'fmin': '2155262',\n",
       "     'sequence': 'ATGCAGGTGTTACCCCCGAGCAGCACAGGCGGCCCGTCGCGCCTGTTTATTATGCGTCCTGTGGCCACCACGCTGCTGATGGTGGCGATCTTACTCGCCGGGATTATCGGTTATCGCGCCCTGCCCGTTTCGGCGCTGCCGGAAGTGGACTATCCGACCATTCAGGTGGTCACGCTCTACCCAGGTGCCAGCCCGGATGTCATGACCTCTGCCGTTACCGCGCCGCTAGAACGCCAGTTCGGGCAGATGTCTGGCCTGAAACAGATGTCGTCGCAAAGTTCCGGCGGTGCGTCAGTTATCACTTTGCAGTTCCAGCTAACATTACCGCTCGATGTCGCCGAGCAGGAAGTGCAGGCCGCGATTAACGCTGCGACCAACTTGTTGCCGAGCGATCTGCCTAACCCGCCGGTTTACAGCAAAGTGAACCCGGCAGATCCGCCGATCATGACGCTCGCCGTCACCTCAACCGCCATGCCGATGACGCAAGTGGAAGATATGGTGGAAACCCGCGTCGCGCAGAAAATCTCGCAGATTTCCGGCGTCGGCCTGGTGACGCTTTCCGGCGGTCAGCGTCCGGCTGTTCGCGTCAAACTTAACGCTCAGGCGATTGCCGCCCTCGGCCTGACCAGCGAAACCGTGCGCACCGCCATTACCGGCGCTAACGTTAACTCGGCAAAAGGTAGCCTCGACGGCCCTTCCCGTGCGGTCACGCTTTCCGCGAACGACCAGATGCAATCCGCCGAAGAGTATCGCCAGCTAATCATCGCCTACCAGAACGGCGCGCCAATTCGTCTGGGCGATGTCGCAACTGTAGAGCAAGGTGCAGAAAACAGCTGGCTCGGCGCGTGGGCGAACAAAGAACAGGCCATTGTGATGAATGTTCAGCGCCAGCCCGGTGCTAACATTATCTCCACCGCCGACAGCATTCGGCAGATGCTGCCACAGCTCACTGAGAGTCTGCCGAAATCGGTGAAGGTGACAGTGCTTTCCGATCGCACCACCAATATCCGCGCATCCGTCGATGATACTCAGTTTGAATTGATGATGGCTATCGCGCTGGTAGTCATGATTATCTACCTGTTTTTGCGCAATATTCCGGCGACCATCATTCCCGGTGTTGCTGTACCGCTGTCGTTAATCGGCACTTTCGCGGTTATGGTGTTTCTCGATTTTTCAATCAATAACCTGACACTGATGGCGTTAACTATCGCCACCGGATTCGTGGTCGATGACGCCATCGTGGTGATCGAAAACATTTCCCGCTATATCGAAAAAGGCGAAAAACCGTTGGCGGCGGCGCTCAAGGGCGCAGGTGAAATCGGCTTTACCATTATCTCGCTGACCTTCTCACTGATTGCGGTGTTGATCCCACTGCTGTTTATGGGCGATATCGTCGGGCGACTGTTCCGCGAATTTGCTATTACCCTGGCGGTAGCGATTTTGATCTCAGCGGTGGTGTCGCTGACCCTGACACCGATGATGTGCGCGCGGATGCTCAGCCAGGAGTCGTTGCGTAAACAGAACCGCTTCTCCCGTGCCTCGGAAAAAATGTTCGACAGGATAATCGCCGCCTATGGTCGTGGACTGGCGAAAGTGCTGAATCATCCGTGGCTGACCTTAAGCGTGGCACTCAGCACGCTGCTGCTTAGCGTGCTGCTGTGGGTGTTCATTCCGAAAGGTTTCTTCCCGGTACAGGACAATGGCATTATTCAGGGCACTTTGCAGGCACCGCAATCCAGCTCCTTTGCCAATATGGCCCAGCGACAACGCCAGGTCGCGGACGTGATTTTGCAGGATCCGGCAGTGCAAAGCCTGACCTCATTTGTTGGCGTTGATGGCACTAACCCGTCGCTGAACAGTGCACGTTTACAAATCAACCTCAAACCGTTGGATGAACGTGATGATCGGGTGCAAAAAGTCATCGCCCGTCTGCAAACGGCGGTAGATAAAGTGCCGGGCGTCGATCTCTTCCTGCAACCAACGCAGGATCTGACTATTGATACTCAGGTCAGCCGCACCCAGTACCAGTTTACCTTGCAGGCCACGTCACTGGATGCGCTCAGTACCTGGGTGCCACAGTTGATGGAAAAACTCCAGCAACTGCCACAGCTTTCTGATGTCTCCAGCGACTGGCAGGACAAAGGGCTGGTGGCGTATGTCAATGTTGATCGCGACAGCGCCAGCCGTCTGGGGATCAGCATGGCGGATGTCGATAACGCCCTGTACAACGCGTTTGGTCAGCGGCTGATTTCCACTATTTATACTCAGGCCAACCAGTATCGCGTGGTGCTGGAGCACAACACCGAAAATACCCCAGGCCTCGCGGCGCTGGATACCATTCGCCTGACCAGCAGCGACGGCGGCGTGGTGCCGCTAAGCTCAATTGCCAAAATTGAGCAGCGTTTTGCGCCGCTCTCCATCAACCATCTGGATCAGTTCCCGGTAACGACCATCTCCTTTAACGTGCCGGATAACTATTCGCTGGGCGATGCGGTGCAGGCGATTATGGACACCGAAAAGACGCTGAATCTGCCGGTGGATATCACCACGCAGTTCCAGGGCAGCACCCTCGCCTTCCAGTCGGCGCTGGGCAGCACTGTCTGGCTGATTGTCGCGGCGGTGGTGGCGATGTATATCGTGCTCGGCATTCTGTACGAGAGCTTTATTCACCCGATCACCATTCTCTCGACGCTACCCACCGCAGGGGTTGGCGCACTGCTGGCGTTGCTGATTGCTGGTAGCGAACTGGATGTGATTGCGATTATCGGCATTATTTTGCTGATCGGTATCGTGAAGAAGAACGCCATCATGATGATCGACTTCGCGCTGGCTGCTGAGCGCGAGCAAGGCATGTCGCCGCGCGAGGCAATCTACCAGGCTTGTCTGTTGCGTTTTCGTCCGATCCTGATGACCACTCTGGCGGCTCTGCTTGGCGCGCTGCCGCTGATGTTGAGTACCGGGGTCGGCGCGGAACTGCGTCGTCCGTTAGGTATCGGCATGGTCGGCGGTCTGATTGTCAGCCAGGTGCTGACGCTGTTTACCACGCCGGTGATTTATTTGCTGTTCGACCGCCTGGCATTGTGGACCAAAAGCCGCTTTGCCCGTCATGAAGAGGAGGCGTAAG',\n",
       "     'strand': '+'},\n",
       "    'protein_sequence': {'GI': 'AAC75136.1',\n",
       "     'sequence': 'MQVLPPSSTGGPSRLFIMRPVATTLLMVAILLAGIIGYRALPVSALPEVDYPTIQVVTLYPGASPDVMTSAVTAPLERQFGQMSGLKQMSSQSSGGASVITLQFQLTLPLDVAEQEVQAAINAATNLLPSDLPNPPVYSKVNPADPPIMTLAVTSTAMPMTQVEDMVETRVAQKISQISGVGLVTLSGGQRPAVRVKLNAQAIAALGLTSETVRTAITGANVNSAKGSLDGPSRAVTLSANDQMQSAEEYRQLIIAYQNGAPIRLGDVATVEQGAENSWLGAWANKEQAIVMNVQRQPGANIISTADSIRQMLPQLTESLPKSVKVTVLSDRTTNIRASVDDTQFELMMAIALVVMIIYLFLRNIPATIIPGVAVPLSLIGTFAVMVFLDFSINNLTLMALTIATGFVVDDAIVVIENISRYIEKGEKPLAAALKGAGEIGFTIISLTFSLIAVLIPLLFMGDIVGRLFREFAITLAVAILISAVVSLTLTPMMCARMLSQESLRKQNRFSRASEKMFDRIIAAYGRGLAKVLNHPWLTLSVALSTLLLSVLLWVFIPKGFFPVQDNGIIQGTLQAPQSSSFANMAQRQRQVADVILQDPAVQSLTSFVGVDGTNPSLNSARLQINLKPLDERDDRVQKVIARLQTAVDKVPGVDLFLQPTQDLTIDTQVSRTQYQFTLQATSLDALSTWVPQLMEKLQQLPQLSDVSSDWQDKGLVAYVNVDRDSASRLGISMADVDNALYNAFGQRLISTIYTQANQYRVVLEHNTENTPGLAALDTIRLTSSDGGVVPLSSIAKIEQRFAPLSINHLDQFPVTTISFNVPDNYSLGDAVQAIMDTEKTLNLPVDITTQFQGSTLAFQSALGSTVWLIVAAVVAMYIVLGILYESFIHPITILSTLPTAGVGALLALLIAGSELDVIAIIGIILLIGIVKKNAIMMIDFALAAEREQGMSPREAIYQACLLRFRPILMTTLAALLGALPLMLSTGVGAELRRPLGIGMVGGLIVSQVLTLFTTPVIYLLFDRLALWTKSRFARHEEEA'}}}},\n",
       " 'model_type': 'protein homolog model',\n",
       " 'model_type_id': '40292'}"
      ]
     },
     "execution_count": 6,
     "metadata": {},
     "output_type": "execute_result"
    }
   ],
   "source": [
    "data"
   ]
  },
  {
   "cell_type": "code",
   "execution_count": null,
   "metadata": {
    "collapsed": true
   },
   "outputs": [],
   "source": []
  }
 ],
 "metadata": {
  "hide_input": false,
  "kernelspec": {
   "display_name": "Python 3",
   "language": "python",
   "name": "python3"
  },
  "language_info": {
   "codemirror_mode": {
    "name": "ipython",
    "version": 3
   },
   "file_extension": ".py",
   "mimetype": "text/x-python",
   "name": "python",
   "nbconvert_exporter": "python",
   "pygments_lexer": "ipython3",
   "version": "3.5.2"
  },
  "toc": {
   "toc_cell": false,
   "toc_number_sections": true,
   "toc_threshold": 6,
   "toc_window_display": false
  }
 },
 "nbformat": 4,
 "nbformat_minor": 2
}
